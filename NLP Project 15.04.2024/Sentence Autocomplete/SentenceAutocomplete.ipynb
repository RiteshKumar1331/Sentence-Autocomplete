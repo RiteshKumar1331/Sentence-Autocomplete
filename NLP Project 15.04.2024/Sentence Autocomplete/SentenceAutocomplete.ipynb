{
 "cells": [
  {
   "cell_type": "markdown",
   "metadata": {},
   "source": [
    "# Loading"
   ]
  },
  {
   "cell_type": "code",
   "execution_count": 1,
   "metadata": {},
   "outputs": [],
   "source": [
    "import autocompleter \n",
    "autocompl = autocompleter.Autocompleter()"
   ]
  },
  {
   "cell_type": "code",
   "execution_count": 2,
   "metadata": {},
   "outputs": [
    {
     "name": "stdout",
     "output_type": "stream",
     "text": [
      "load json file...\n",
      "(22264, 3)\n"
     ]
    },
    {
     "data": {
      "text/plain": [
       "((22264, 3), Index(['IsFromCustomer', 'Text', 'index'], dtype='object'))"
      ]
     },
     "execution_count": 2,
     "metadata": {},
     "output_type": "execute_result"
    }
   ],
   "source": [
    "df = autocompl.import_json(\"sample_conversations.json\")\n",
    "df.shape, df.columns"
   ]
  },
  {
   "cell_type": "markdown",
   "metadata": {},
   "source": [
    "The file contains 22K conversations between a customer and a representative.\n",
    "For the purpose of this project, we are only interested in completing the threads of the representative."
   ]
  },
  {
   "cell_type": "code",
   "execution_count": 3,
   "metadata": {},
   "outputs": [
    {
     "data": {
      "text/html": [
       "<div>\n",
       "<style scoped>\n",
       "    .dataframe tbody tr th:only-of-type {\n",
       "        vertical-align: middle;\n",
       "    }\n",
       "\n",
       "    .dataframe tbody tr th {\n",
       "        vertical-align: top;\n",
       "    }\n",
       "\n",
       "    .dataframe thead th {\n",
       "        text-align: right;\n",
       "    }\n",
       "</style>\n",
       "<table border=\"1\" class=\"dataframe\">\n",
       "  <thead>\n",
       "    <tr style=\"text-align: right;\">\n",
       "      <th></th>\n",
       "      <th>IsFromCustomer</th>\n",
       "      <th>Text</th>\n",
       "      <th>index</th>\n",
       "    </tr>\n",
       "  </thead>\n",
       "  <tbody>\n",
       "    <tr>\n",
       "      <th>0</th>\n",
       "      <td>True</td>\n",
       "      <td>Hi! I placed an order on your website and I ca...</td>\n",
       "      <td>0</td>\n",
       "    </tr>\n",
       "    <tr>\n",
       "      <th>1</th>\n",
       "      <td>True</td>\n",
       "      <td>I think I used my email address to log in.</td>\n",
       "      <td>0</td>\n",
       "    </tr>\n",
       "    <tr>\n",
       "      <th>2</th>\n",
       "      <td>True</td>\n",
       "      <td>My battery exploded!</td>\n",
       "      <td>1</td>\n",
       "    </tr>\n",
       "    <tr>\n",
       "      <th>3</th>\n",
       "      <td>True</td>\n",
       "      <td>It's on fire, it's melting the carpet!</td>\n",
       "      <td>1</td>\n",
       "    </tr>\n",
       "    <tr>\n",
       "      <th>4</th>\n",
       "      <td>True</td>\n",
       "      <td>What should I do!</td>\n",
       "      <td>1</td>\n",
       "    </tr>\n",
       "  </tbody>\n",
       "</table>\n",
       "</div>"
      ],
      "text/plain": [
       "   IsFromCustomer                                               Text  index\n",
       "0            True  Hi! I placed an order on your website and I ca...      0\n",
       "1            True         I think I used my email address to log in.      0\n",
       "2            True                               My battery exploded!      1\n",
       "3            True             It's on fire, it's melting the carpet!      1\n",
       "4            True                                  What should I do!      1"
      ]
     },
     "execution_count": 3,
     "metadata": {},
     "output_type": "execute_result"
    }
   ],
   "source": [
    "df.head()"
   ]
  },
  {
   "cell_type": "markdown",
   "metadata": {},
   "source": [
    "# Data Selection and Cleaning"
   ]
  },
  {
   "cell_type": "markdown",
   "metadata": {},
   "source": [
    "The data is going to separate the threads from the customer and the representative, separate the sentenses based on the punctuation (we will keep the punctuation), the final text will be cleaned up with some light regex and only the sentense larger than 1 word will be kept."
   ]
  },
  {
   "cell_type": "code",
   "execution_count": 4,
   "metadata": {},
   "outputs": [
    {
     "name": "stdout",
     "output_type": "stream",
     "text": [
      "select representative threads...\n",
      "split sentenses on punctuation...\n",
      "Text Cleaning using simple regex...\n",
      "calculate nb words of sentenses...\n",
      "count occurence of sentenses...\n",
      "remove duplicates (keep last)...\n",
      "(8560, 5)\n"
     ]
    },
    {
     "data": {
      "text/plain": [
       "((8560, 5),\n",
       " Index(['IsFromCustomer', 'Text', 'index', 'nb_words', 'Counts'], dtype='object'))"
      ]
     },
     "execution_count": 4,
     "metadata": {},
     "output_type": "execute_result"
    }
   ],
   "source": [
    "new_df = autocompl.process_data(df)\n",
    "new_df.shape, new_df.columns"
   ]
  },
  {
   "cell_type": "markdown",
   "metadata": {},
   "source": [
    "# Model and TFIDF matrix"
   ]
  },
  {
   "cell_type": "markdown",
   "metadata": {},
   "source": [
    "A matrice of similarity is calculated based on the frequency of all the words in the data using tfidfvectorizer"
   ]
  },
  {
   "cell_type": "code",
   "execution_count": 5,
   "metadata": {
    "scrolled": true
   },
   "outputs": [
    {
     "name": "stdout",
     "output_type": "stream",
     "text": [
      "tfidf_matrice  (8560, 99397)\n"
     ]
    }
   ],
   "source": [
    "model_tf, tfidf_matrice = autocompl.calc_matrice(new_df)"
   ]
  },
  {
   "cell_type": "markdown",
   "metadata": {},
   "source": [
    "# Ranking Function"
   ]
  },
  {
   "cell_type": "markdown",
   "metadata": {},
   "source": [
    "Finally, the autocomplete is calculating the similarity between the sentense in the data and the prefix of the sentense. As a weight feature, we chose to reorder using the frequency of the most common similar sentense."
   ]
  },
  {
   "cell_type": "markdown",
   "metadata": {},
   "source": [
    "Examples of auto completions:"
   ]
  },
  {
   "cell_type": "code",
   "execution_count": 6,
   "metadata": {},
   "outputs": [
    {
     "name": "stdout",
     "output_type": "stream",
     "text": [
      "What is your \n",
      "\n"
     ]
    },
    {
     "data": {
      "text/plain": [
       "['What is your account number?',\n",
       " 'What is your order number?',\n",
       " 'What is your phone number?',\n",
       " 'What is your address?',\n",
       " 'What is your username?',\n",
       " 'What is your order?',\n",
       " 'What is your flight number?']"
      ]
     },
     "execution_count": 6,
     "metadata": {},
     "output_type": "execute_result"
    }
   ],
   "source": [
    "prefix = 'What is your'\n",
    "\n",
    "print(prefix,\"\\n\")\n",
    "\n",
    "autocompl.generate_completions(prefix, new_df, model_tf,tfidf_matrice)"
   ]
  },
  {
   "cell_type": "code",
   "execution_count": 7,
   "metadata": {},
   "outputs": [
    {
     "name": "stdout",
     "output_type": "stream",
     "text": [
      "How can  \n"
     ]
    },
    {
     "data": {
      "text/plain": [
       "['How can I help you?',\n",
       " 'How can I help you today?',\n",
       " 'Ok lets see how I can help',\n",
       " 'How can we help you?',\n",
       " 'Ok let me see how I can help',\n",
       " 'How can we be of assistance to you?',\n",
       " 'How may I help you?']"
      ]
     },
     "execution_count": 7,
     "metadata": {},
     "output_type": "execute_result"
    }
   ],
   "source": [
    "prefix = 'How can'\n",
    "print(prefix,\" \")\n",
    "autocompl.generate_completions(prefix, new_df, model_tf,tfidf_matrice)"
   ]
  },
  {
   "cell_type": "code",
   "execution_count": 8,
   "metadata": {},
   "outputs": [
    {
     "name": "stdout",
     "output_type": "stream",
     "text": [
      "Let me  \n"
     ]
    },
    {
     "data": {
      "text/plain": [
       "['Let me investigate',\n",
       " 'Let me assist you',\n",
       " 'Let me look',\n",
       " 'Let me know',\n",
       " 'Let me help',\n",
       " 'Let me help you',\n",
       " 'Let me research']"
      ]
     },
     "execution_count": 8,
     "metadata": {},
     "output_type": "execute_result"
    }
   ],
   "source": [
    "prefix = 'Let me'\n",
    "print(prefix,\" \")\n",
    "autocompl.generate_completions(prefix, new_df, model_tf,tfidf_matrice)"
   ]
  },
  {
   "cell_type": "code",
   "execution_count": 9,
   "metadata": {},
   "outputs": [
    {
     "name": "stdout",
     "output_type": "stream",
     "text": [
      "when was  \n"
     ]
    },
    {
     "data": {
      "text/plain": [
       "['When was the last time you changed your password?',\n",
       " 'When was your flight scheduled for?',\n",
       " 'When was the last time you tried?',\n",
       " 'When was the last time you changed your password for the router?',\n",
       " 'When was the last time you changed your wi-fi password?',\n",
       " 'When was the last time you changed your password for your router?',\n",
       " 'When was the last time you changed your password on modem/router?']"
      ]
     },
     "execution_count": 9,
     "metadata": {},
     "output_type": "execute_result"
    }
   ],
   "source": [
    "prefix = 'when was'\n",
    "print(prefix,\" \")\n",
    "autocompl.generate_completions(prefix, new_df, model_tf,tfidf_matrice)"
   ]
  },
  {
   "cell_type": "markdown",
   "metadata": {},
   "source": [
    "Now, without any uppercase and just with the important words..."
   ]
  },
  {
   "cell_type": "code",
   "execution_count": 10,
   "metadata": {},
   "outputs": [
    {
     "name": "stdout",
     "output_type": "stream",
     "text": [
      "when time password  \n"
     ]
    },
    {
     "data": {
      "text/plain": [
       "['When was the last time you changed your password?',\n",
       " 'When you select you password?',\n",
       " 'Take your time',\n",
       " 'At this time',\n",
       " 'When was the last time you changed your password for the router?',\n",
       " 'When was the last time you changed your wi-fi password?',\n",
       " 'When was the last time you changed your password for your router?']"
      ]
     },
     "execution_count": 10,
     "metadata": {},
     "output_type": "execute_result"
    }
   ],
   "source": [
    "prefix = 'when time password'\n",
    "print(prefix,\" \")\n",
    "autocompl.generate_completions(prefix, new_df, model_tf,tfidf_matrice)"
   ]
  },
  {
   "cell_type": "code",
   "execution_count": 11,
   "metadata": {},
   "outputs": [
    {
     "name": "stdout",
     "output_type": "stream",
     "text": [
      "how is the  \n"
     ]
    },
    {
     "data": {
      "text/plain": [
       "['How is the service?',\n",
       " 'How is the reception at your house?',\n",
       " 'How is the internet speed looking now?',\n",
       " 'How is March 21st?',\n",
       " 'How is your service now?',\n",
       " 'How is your service at your house?',\n",
       " 'What is the address?']"
      ]
     },
     "execution_count": 11,
     "metadata": {},
     "output_type": "execute_result"
    }
   ],
   "source": [
    "prefix = 'how is the'\n",
    "print(prefix,\" \")\n",
    "autocompl.generate_completions(prefix, new_df, model_tf, tfidf_matrice)"
   ]
  },
  {
   "cell_type": "code",
   "execution_count": 12,
   "metadata": {},
   "outputs": [
    {
     "name": "stdout",
     "output_type": "stream",
     "text": [
      "Are you  \n"
     ]
    },
    {
     "data": {
      "text/plain": [
       "['Are you still there?',\n",
       " 'Are you available?',\n",
       " 'Are you there?',\n",
       " 'Are you still there',\n",
       " 'Are you avilable?',\n",
       " 'Are you aware of that?',\n",
       " 'Are you aware of this?']"
      ]
     },
     "execution_count": 12,
     "metadata": {},
     "output_type": "execute_result"
    }
   ],
   "source": [
    "prefix = 'Are you'\n",
    "print(prefix,\" \")\n",
    "autocompl.generate_completions(prefix, new_df, model_tf, tfidf_matrice)"
   ]
  },
  {
   "cell_type": "code",
   "execution_count": null,
   "metadata": {},
   "outputs": [],
   "source": []
  }
 ],
 "metadata": {
  "kernelspec": {
   "display_name": "Python 3 (ipykernel)",
   "language": "python",
   "name": "python3"
  },
  "language_info": {
   "codemirror_mode": {
    "name": "ipython",
    "version": 3
   },
   "file_extension": ".py",
   "mimetype": "text/x-python",
   "name": "python",
   "nbconvert_exporter": "python",
   "pygments_lexer": "ipython3",
   "version": "3.11.5"
  }
 },
 "nbformat": 4,
 "nbformat_minor": 2
}
